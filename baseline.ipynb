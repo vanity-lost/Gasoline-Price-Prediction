{
 "cells": [
  {
   "cell_type": "code",
   "execution_count": 126,
   "metadata": {},
   "outputs": [],
   "source": [
    "import pandas as pd\n",
    "import numpy as np\n",
    "import matplotlib.pyplot as plt\n",
    "from sklearn.preprocessing import MinMaxScaler\n",
    "from sklearn.linear_model import LinearRegression\n",
    "from sklearn.metrics import mean_squared_error\n",
    "\n",
    "window_size = 12"
   ]
  },
  {
   "cell_type": "code",
   "execution_count": 120,
   "metadata": {},
   "outputs": [
    {
     "data": {
      "text/html": [
       "<div>\n",
       "<style scoped>\n",
       "    .dataframe tbody tr th:only-of-type {\n",
       "        vertical-align: middle;\n",
       "    }\n",
       "\n",
       "    .dataframe tbody tr th {\n",
       "        vertical-align: top;\n",
       "    }\n",
       "\n",
       "    .dataframe thead th {\n",
       "        text-align: right;\n",
       "    }\n",
       "</style>\n",
       "<table border=\"1\" class=\"dataframe\">\n",
       "  <thead>\n",
       "    <tr style=\"text-align: right;\">\n",
       "      <th>1</th>\n",
       "      <th>Date</th>\n",
       "      <th>Weekly U.S. All Grades All Formulations Retail Gasoline Prices  (Dollars per Gallon)</th>\n",
       "      <th>Weekly U.S. Imports of Crude Oil and Petroleum Products  (Thousand Barrels per Day)</th>\n",
       "      <th>Weekly U.S. Imports of Crude Oil  (Thousand Barrels per Day)</th>\n",
       "      <th>Weekly U.S. Commercial Crude Oil Imports Excluding SPR  (Thousand Barrels per Day)</th>\n",
       "      <th>Weekly U.S. Crude Oil Imports by SPR  (Thousand Barrels per Day)</th>\n",
       "      <th>Weekly U.S. Imports of Total Petroleum Products  (Thousand Barrels per Day)</th>\n",
       "      <th>Weekly U.S. Imports of Total Gasoline  (Thousand Barrels per Day)</th>\n",
       "      <th>Weekly U.S. Imports of Gasoline Blending Components  (Thousand Barrels per Day)</th>\n",
       "      <th>Weekly U.S. Imports of Kerosene-Type Jet Fuel  (Thousand Barrels per Day)</th>\n",
       "      <th>Weekly U.S. Imports of Distillate Fuel Oil  (Thousand Barrels per Day)</th>\n",
       "      <th>Weekly U.S. Imports of Residual Fuel Oil  (Thousand Barrels per Day)</th>\n",
       "      <th>Weekly U.S. Exports of Crude Oil and Petroleum Products  (Thousand Barrels per Day)</th>\n",
       "      <th>Weekly U.S. Exports of Crude Oil  (Thousand Barrels per Day)</th>\n",
       "      <th>Weekly U.S. Net Imports of Crude Oil and Petroleum Products  (Thousand Barrels per Day)</th>\n",
       "    </tr>\n",
       "  </thead>\n",
       "  <tbody>\n",
       "    <tr>\n",
       "      <th>1080</th>\n",
       "      <td>1386892800</td>\n",
       "      <td>3.321</td>\n",
       "      <td>9739</td>\n",
       "      <td>7732</td>\n",
       "      <td>7732</td>\n",
       "      <td>0</td>\n",
       "      <td>2007</td>\n",
       "      <td>599</td>\n",
       "      <td>544</td>\n",
       "      <td>63</td>\n",
       "      <td>226</td>\n",
       "      <td>233</td>\n",
       "      <td>3443</td>\n",
       "      <td>57</td>\n",
       "      <td>6296</td>\n",
       "    </tr>\n",
       "    <tr>\n",
       "      <th>1081</th>\n",
       "      <td>1387497600</td>\n",
       "      <td>3.351</td>\n",
       "      <td>9145</td>\n",
       "      <td>7535</td>\n",
       "      <td>7535</td>\n",
       "      <td>0</td>\n",
       "      <td>1610</td>\n",
       "      <td>486</td>\n",
       "      <td>428</td>\n",
       "      <td>46</td>\n",
       "      <td>175</td>\n",
       "      <td>295</td>\n",
       "      <td>3641</td>\n",
       "      <td>58</td>\n",
       "      <td>5504</td>\n",
       "    </tr>\n",
       "    <tr>\n",
       "      <th>1082</th>\n",
       "      <td>1388102400</td>\n",
       "      <td>3.409</td>\n",
       "      <td>8818</td>\n",
       "      <td>7495</td>\n",
       "      <td>7495</td>\n",
       "      <td>0</td>\n",
       "      <td>1323</td>\n",
       "      <td>247</td>\n",
       "      <td>238</td>\n",
       "      <td>31</td>\n",
       "      <td>140</td>\n",
       "      <td>183</td>\n",
       "      <td>3641</td>\n",
       "      <td>58</td>\n",
       "      <td>5177</td>\n",
       "    </tr>\n",
       "    <tr>\n",
       "      <th>1083</th>\n",
       "      <td>1388707200</td>\n",
       "      <td>3.411</td>\n",
       "      <td>9383</td>\n",
       "      <td>7961</td>\n",
       "      <td>7961</td>\n",
       "      <td>0</td>\n",
       "      <td>1422</td>\n",
       "      <td>379</td>\n",
       "      <td>369</td>\n",
       "      <td>61</td>\n",
       "      <td>114</td>\n",
       "      <td>215</td>\n",
       "      <td>3641</td>\n",
       "      <td>58</td>\n",
       "      <td>5742</td>\n",
       "    </tr>\n",
       "    <tr>\n",
       "      <th>1084</th>\n",
       "      <td>1389312000</td>\n",
       "      <td>3.406</td>\n",
       "      <td>8267</td>\n",
       "      <td>6889</td>\n",
       "      <td>6889</td>\n",
       "      <td>0</td>\n",
       "      <td>1378</td>\n",
       "      <td>405</td>\n",
       "      <td>397</td>\n",
       "      <td>48</td>\n",
       "      <td>208</td>\n",
       "      <td>102</td>\n",
       "      <td>3641</td>\n",
       "      <td>58</td>\n",
       "      <td>4626</td>\n",
       "    </tr>\n",
       "  </tbody>\n",
       "</table>\n",
       "</div>"
      ],
      "text/plain": [
       "1           Date  \\\n",
       "1080  1386892800   \n",
       "1081  1387497600   \n",
       "1082  1388102400   \n",
       "1083  1388707200   \n",
       "1084  1389312000   \n",
       "\n",
       "1    Weekly U.S. All Grades All Formulations Retail Gasoline Prices  (Dollars per Gallon)  \\\n",
       "1080                                              3.321                                     \n",
       "1081                                              3.351                                     \n",
       "1082                                              3.409                                     \n",
       "1083                                              3.411                                     \n",
       "1084                                              3.406                                     \n",
       "\n",
       "1    Weekly U.S. Imports of Crude Oil and Petroleum Products  (Thousand Barrels per Day)  \\\n",
       "1080                                               9739                                    \n",
       "1081                                               9145                                    \n",
       "1082                                               8818                                    \n",
       "1083                                               9383                                    \n",
       "1084                                               8267                                    \n",
       "\n",
       "1    Weekly U.S. Imports of Crude Oil  (Thousand Barrels per Day)  \\\n",
       "1080                                               7732             \n",
       "1081                                               7535             \n",
       "1082                                               7495             \n",
       "1083                                               7961             \n",
       "1084                                               6889             \n",
       "\n",
       "1    Weekly U.S. Commercial Crude Oil Imports Excluding SPR  (Thousand Barrels per Day)  \\\n",
       "1080                                               7732                                   \n",
       "1081                                               7535                                   \n",
       "1082                                               7495                                   \n",
       "1083                                               7961                                   \n",
       "1084                                               6889                                   \n",
       "\n",
       "1    Weekly U.S. Crude Oil Imports by SPR  (Thousand Barrels per Day)  \\\n",
       "1080                                                  0                 \n",
       "1081                                                  0                 \n",
       "1082                                                  0                 \n",
       "1083                                                  0                 \n",
       "1084                                                  0                 \n",
       "\n",
       "1    Weekly U.S. Imports of Total Petroleum Products  (Thousand Barrels per Day)  \\\n",
       "1080                                               2007                            \n",
       "1081                                               1610                            \n",
       "1082                                               1323                            \n",
       "1083                                               1422                            \n",
       "1084                                               1378                            \n",
       "\n",
       "1    Weekly U.S. Imports of Total Gasoline  (Thousand Barrels per Day)  \\\n",
       "1080                                                599                  \n",
       "1081                                                486                  \n",
       "1082                                                247                  \n",
       "1083                                                379                  \n",
       "1084                                                405                  \n",
       "\n",
       "1    Weekly U.S. Imports of Gasoline Blending Components  (Thousand Barrels per Day)  \\\n",
       "1080                                                544                                \n",
       "1081                                                428                                \n",
       "1082                                                238                                \n",
       "1083                                                369                                \n",
       "1084                                                397                                \n",
       "\n",
       "1    Weekly U.S. Imports of Kerosene-Type Jet Fuel  (Thousand Barrels per Day)  \\\n",
       "1080                                                 63                          \n",
       "1081                                                 46                          \n",
       "1082                                                 31                          \n",
       "1083                                                 61                          \n",
       "1084                                                 48                          \n",
       "\n",
       "1    Weekly U.S. Imports of Distillate Fuel Oil  (Thousand Barrels per Day)  \\\n",
       "1080                                                226                       \n",
       "1081                                                175                       \n",
       "1082                                                140                       \n",
       "1083                                                114                       \n",
       "1084                                                208                       \n",
       "\n",
       "1    Weekly U.S. Imports of Residual Fuel Oil  (Thousand Barrels per Day)  \\\n",
       "1080                                                233                     \n",
       "1081                                                295                     \n",
       "1082                                                183                     \n",
       "1083                                                215                     \n",
       "1084                                                102                     \n",
       "\n",
       "1    Weekly U.S. Exports of Crude Oil and Petroleum Products  (Thousand Barrels per Day)  \\\n",
       "1080                                               3443                                    \n",
       "1081                                               3641                                    \n",
       "1082                                               3641                                    \n",
       "1083                                               3641                                    \n",
       "1084                                               3641                                    \n",
       "\n",
       "1    Weekly U.S. Exports of Crude Oil  (Thousand Barrels per Day)  \\\n",
       "1080                                                 57             \n",
       "1081                                                 58             \n",
       "1082                                                 58             \n",
       "1083                                                 58             \n",
       "1084                                                 58             \n",
       "\n",
       "1    Weekly U.S. Net Imports of Crude Oil and Petroleum Products  (Thousand Barrels per Day)  \n",
       "1080                                               6296                                       \n",
       "1081                                               5504                                       \n",
       "1082                                               5177                                       \n",
       "1083                                               5742                                       \n",
       "1084                                               4626                                       "
      ]
     },
     "execution_count": 120,
     "metadata": {},
     "output_type": "execute_result"
    }
   ],
   "source": [
    "df = pd.read_pickle('test_dataset.pkl')\n",
    "data = df.values.astype(float)\n",
    "df.head()"
   ]
  },
  {
   "cell_type": "code",
   "execution_count": 112,
   "metadata": {},
   "outputs": [
    {
     "data": {
      "text/plain": [
       "((450, 168), (450,))"
      ]
     },
     "execution_count": 112,
     "metadata": {},
     "output_type": "execute_result"
    }
   ],
   "source": [
    "price_pct = [0]\n",
    "for i in range(1, data.shape[0]):\n",
    "    price_pct.append((data[i, 1] - data[i-1, 1])/data[i-1, 1])\n",
    "price_pct = np.array(price_pct, dtype=float)\n",
    "prices = data[:, 1].copy()\n",
    "data[:, 1] = price_pct\n",
    "\n",
    "normalized_features = MinMaxScaler().fit_transform(data[:, 2:])\n",
    "train_X = np.hstack((normalized_features, np.array(price_pct).reshape(-1, 1)))\n",
    "train_X = np.array([train_X[i-window_size:i, :].reshape(-1) for i in range(window_size, len(data))], dtype=np.float32)\n",
    "train_y = price_pct[window_size:]\n",
    "\n",
    "train_X.shape, train_y.shape"
   ]
  },
  {
   "cell_type": "code",
   "execution_count": 127,
   "metadata": {},
   "outputs": [
    {
     "name": "stdout",
     "output_type": "stream",
     "text": [
      "R2: 0.5617893097866935\n",
      "RMSE: 0.012900783724857059\n"
     ]
    }
   ],
   "source": [
    "model = LinearRegression().fit(train_X, train_y)\n",
    "preds = model.predict(train_X)\n",
    "print(f'R2: {model.score(train_X, train_y)}')\n",
    "print(f'RMSE: {mean_squared_error(train_y, preds, squared=False)}')"
   ]
  },
  {
   "cell_type": "code",
   "execution_count": 99,
   "metadata": {},
   "outputs": [
    {
     "data": {
      "image/png": "[encoded data removed]",
      "text/plain": [
       "<Figure size 432x288 with 1 Axes>"
      ]
     },
     "metadata": {
      "needs_background": "light"
     },
     "output_type": "display_data"
    }
   ],
   "source": [
    "plt.plot(range(len(data)-window_size), train_y, color='blue', label='Real')\n",
    "plt.plot(range(len(data)-window_size), preds, color='red', label='Predictions')\n",
    "plt.legend()\n",
    "plt.show()"
   ]
  },
  {
   "cell_type": "code",
   "execution_count": 122,
   "metadata": {},
   "outputs": [
    {
     "data": {
      "image/png": "[encoded data removed]",
      "text/plain": [
       "<Figure size 432x288 with 1 Axes>"
      ]
     },
     "metadata": {
      "needs_background": "light"
     },
     "output_type": "display_data"
    }
   ],
   "source": [
    "predicted_price = (preds+1) * prices[window_size-1:-1]\n",
    "plt.plot(range(len(data)-window_size), prices[window_size:], color='blue', label='Real')\n",
    "plt.plot(range(len(data)-window_size), predicted_price, color='red', label='Predictions')\n",
    "plt.legend()\n",
    "plt.show()"
   ]
  },
  {
   "cell_type": "code",
   "execution_count": null,
   "metadata": {},
   "outputs": [],
   "source": []
  }
 ],
 "metadata": {
  "kernelspec": {
   "display_name": "Python 3.8.7 64-bit",
   "language": "python",
   "name": "python3"
  },
  "language_info": {
   "codemirror_mode": {
    "name": "ipython",
    "version": 3
   },
   "file_extension": ".py",
   "mimetype": "text/x-python",
   "name": "python",
   "nbconvert_exporter": "python",
   "pygments_lexer": "ipython3",
   "version": "3.8.7"
  },
  "orig_nbformat": 4,
  "vscode": {
   "interpreter": {
    "hash": "570feb405e2e27c949193ac68f46852414290d515b0ba6e5d90d076ed2284471"
   }
  }
 },
 "nbformat": 4,
 "nbformat_minor": 2
}
